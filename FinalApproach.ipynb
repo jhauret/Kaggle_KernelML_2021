{
 "cells": [
  {
   "cell_type": "markdown",
   "metadata": {},
   "source": [
    "# This is the notebook of our final approach"
   ]
  },
  {
   "cell_type": "markdown",
   "metadata": {},
   "source": [
    "# Preliminaries"
   ]
  },
  {
   "cell_type": "markdown",
   "metadata": {},
   "source": [
    "## Imports"
   ]
  },
  {
   "cell_type": "code",
   "execution_count": 1,
   "metadata": {},
   "outputs": [],
   "source": [
    "import numpy as np\n",
    "\n",
    "#to read/write csv\n",
    "import pandas as pd\n",
    "\n",
    "#for SVM\n",
    "from SVM import fit_SVM_and_predict\n",
    "\n",
    "#for other features\n",
    "from tqdm import tqdm\n",
    "from kernels import phi,Kernel_func\n",
    "\n",
    "import matplotlib.pyplot as plt"
   ]
  },
  {
   "cell_type": "markdown",
   "metadata": {},
   "source": [
    "## Constants"
   ]
  },
  {
   "cell_type": "code",
   "execution_count": 2,
   "metadata": {},
   "outputs": [],
   "source": [
    "split=0.7# We will take split% on data for train set"
   ]
  },
  {
   "cell_type": "markdown",
   "metadata": {},
   "source": [
    "## Load the data"
   ]
  },
  {
   "cell_type": "code",
   "execution_count": 3,
   "metadata": {},
   "outputs": [],
   "source": [
    "# Load and standardize features by removing the mean and scaling to unit variance\n",
    "StandardScaler = lambda df: (df-df.mean())/df.std()\n",
    "\n",
    "XTrain0 = pd.read_csv('./data/Xtr0_mat100.csv', sep=' ', header=None)\n",
    "XTrain1 = pd.read_csv('./data/Xtr1_mat100.csv', sep=' ', header=None)\n",
    "XTrain2 = pd.read_csv('./data/Xtr2_mat100.csv', sep=' ', header=None)\n",
    "\n",
    "# Standardize the Test features using the mean and std of the TRAIN features\n",
    "XTest0 = (pd.read_csv('./data/Xte0_mat100.csv', sep=' ', header=None)-XTrain0.mean())/XTrain0.std()\n",
    "XTest1 = (pd.read_csv('./data/Xte1_mat100.csv', sep=' ', header=None)-XTrain1.mean())/XTrain1.std()\n",
    "XTest2 = (pd.read_csv('./data/Xte2_mat100.csv', sep=' ', header=None)-XTrain2.mean())/XTrain2.std()\n",
    "\n",
    "YTrain0 = pd.read_csv('./data/Ytr0.csv', usecols = ['Bound'])\n",
    "YTrain1 = pd.read_csv('./data/Ytr1.csv', usecols = ['Bound'])\n",
    "YTrain2 = pd.read_csv('./data/Ytr2.csv', usecols = ['Bound'])\n",
    "\n",
    "XTrain0_ATGC = pd.read_csv('./data/Xtr0.csv', sep=' ', header=None)\n",
    "XTrain1_ATGC = pd.read_csv('./data/Xtr1.csv', sep=' ', header=None)\n",
    "XTrain2_ATGC = pd.read_csv('./data/Xtr2.csv', sep=' ', header=None)\n",
    "\n",
    "XTest0_ATGC = pd.read_csv('./data/Xte0.csv', sep=' ', header=None)\n",
    "XTest1_ATGC = pd.read_csv('./data/Xte1.csv', sep=' ', header=None)\n",
    "XTest2_ATGC = pd.read_csv('./data/Xte2.csv', sep=' ', header=None)\n",
    "\n",
    "\n",
    "# Standardize Train features\n",
    "XTrain0 = StandardScaler(XTrain0)\n",
    "XTrain1 = StandardScaler(XTrain1)\n",
    "XTrain2 = StandardScaler(XTrain2)"
   ]
  },
  {
   "cell_type": "markdown",
   "metadata": {},
   "source": [
    "# Spectruc Kernel"
   ]
  },
  {
   "cell_type": "markdown",
   "metadata": {},
   "source": [
    "## Generate features"
   ]
  },
  {
   "cell_type": "code",
   "execution_count": 4,
   "metadata": {},
   "outputs": [
    {
     "name": "stderr",
     "output_type": "stream",
     "text": [
      "  0%|          | 0/6 [00:00<?, ?it/s]"
     ]
    },
    {
     "name": "stdout",
     "output_type": "stream",
     "text": [
      "dimension of features:65536\n"
     ]
    },
    {
     "name": "stderr",
     "output_type": "stream",
     "text": [
      "100%|██████████| 6/6 [00:04<00:00,  1.28it/s]\n"
     ]
    }
   ],
   "source": [
    "###################################################################################################\n",
    "#                                           SPECTRUM KERNEL                                       #\n",
    "###################################################################################################\n",
    "k=8 #length of subsequences considered\n",
    "\n",
    "print('dimension of features:{}'.format(4**k))\n",
    "XTrain0KF=np.zeros([len(XTrain0_ATGC)-1,4**k]) \n",
    "XTrain1KF=np.zeros([len(XTrain1_ATGC)-1,4**k])\n",
    "XTrain2KF=np.zeros([len(XTrain2_ATGC)-1,4**k])\n",
    "\n",
    "XTest0KF=np.zeros([len(XTest0_ATGC)-1,4**k])\n",
    "XTest1KF=np.zeros([len(XTest1_ATGC)-1,4**k])\n",
    "XTest2KF=np.zeros([len(XTest2_ATGC)-1,4**k])\n",
    "\n",
    "ATGC=[XTrain0_ATGC,XTrain1_ATGC,XTrain2_ATGC,XTest0_ATGC,XTest1_ATGC,XTest2_ATGC]\n",
    "KF=[XTrain0KF,XTrain1KF,XTrain2KF,XTest0KF,XTest1KF,XTest2KF]  #KF stands for kernel_features\n",
    "\n",
    "for data in tqdm(range(6)):\n",
    "    for idx,sequence in enumerate(ATGC[data][0][1:]): #[1:] pour ne pas prendre la ligne 'Id,seq'\n",
    "        x = sequence.split(',')[1]\n",
    "        KF[data][idx,:]=phi(x,k,kernel='spectrum_efficient')\n",
    "\n",
    "# Standardize Train features\n",
    "XTrain0KF = StandardScaler(XTrain0KF)\n",
    "XTrain1KF = StandardScaler(XTrain1KF)\n",
    "XTrain2KF = StandardScaler(XTrain2KF)\n",
    "\n",
    "\n",
    "XTest0KF = XTest0KF-XTrain0KF.mean()/XTrain0KF.std()\n",
    "XTest1KF = XTest1KF-XTrain1KF.mean()/XTrain1KF.std()\n",
    "XTest2KF = XTest2KF-XTrain2KF.mean()/XTrain2KF.std()"
   ]
  },
  {
   "cell_type": "code",
   "execution_count": 54,
   "metadata": {},
   "outputs": [
    {
     "data": {
      "text/plain": [
       "((2000, 65536), (2000, 100))"
      ]
     },
     "execution_count": 54,
     "metadata": {},
     "output_type": "execute_result"
    }
   ],
   "source": [
    "XTrain0KF.shape, XTrain0.shape"
   ]
  },
  {
   "cell_type": "markdown",
   "metadata": {},
   "source": [
    "## Generate Kernel and gram matrices"
   ]
  },
  {
   "cell_type": "code",
   "execution_count": 5,
   "metadata": {},
   "outputs": [],
   "source": [
    "K0_SK = np.dot(XTrain0KF[:int(len(XTrain0)*split)],XTrain0KF[:int(len(XTrain0)*split)].T) \n",
    "G0_SK = np.dot(XTrain0KF[int(len(XTrain0)*split):], XTrain0KF[:int(len(XTrain0)*split)].T)\n",
    "Y0 = np.squeeze(np.array(YTrain0[:int(len(XTrain0)*split)]))\n",
    "\n",
    "K1_SK = np.dot(XTrain1KF[:int(len(XTrain1)*split)],XTrain1KF[:int(len(XTrain1)*split)].T) \n",
    "G1_SK = np.dot(XTrain1KF[int(len(XTrain1)*split):], XTrain1KF[:int(len(XTrain1)*split)].T)\n",
    "Y1 = np.squeeze(np.array(YTrain1[:int(len(XTrain1)*split)]))\n",
    "\n",
    "K2_SK = np.dot(XTrain2KF[:int(len(XTrain0)*split)],XTrain2KF[:int(len(XTrain2)*split)].T) \n",
    "G2_SK = np.dot(XTrain2KF[int(len(XTrain2)*split):], XTrain2KF[:int(len(XTrain2)*split)].T)\n",
    "Y2 = np.squeeze(np.array(YTrain2[:int(len(XTrain2)*split)]))"
   ]
  },
  {
   "cell_type": "markdown",
   "metadata": {},
   "source": [
    "## hyperparameter selection and model assessment"
   ]
  },
  {
   "cell_type": "code",
   "execution_count": 33,
   "metadata": {
    "tags": []
   },
   "outputs": [],
   "source": [
    "from scipy.stats import logistic\n",
    "\n",
    "best_lambda0, best_lambda1, best_lambda2 = 1, 1, 1\n",
    "best_accuracy = [0, 0, 0]\n",
    "lambdaa_list = np.logspace(-8, 4, 10)\n",
    "\n",
    "loss_vs_lambda =[[], [], []]\n",
    "accuracy_vs_lambda =[[], [], []]\n",
    "\n",
    "for i, (K, G, Y, XTrain, Ytrain) in enumerate(\n",
    "    zip(\n",
    "        [K0_SK, K1_SK, K2_SK],\n",
    "        [G0_SK, G1_SK, G2_SK],\n",
    "        [Y0, Y1, Y2],\n",
    "        [XTrain0, XTrain1, XTrain2],\n",
    "        [YTrain0, YTrain1, YTrain2],\n",
    "\n",
    "    )\n",
    "):\n",
    "\n",
    "    for lambdaa in lambdaa_list:\n",
    "        # Predictions -1/1\n",
    "        p = fit_SVM_and_predict(K=K, gram=G, Y=Y, C=lambdaa, get_proba=True)\n",
    "        p = p/(p.max()-p.min())\n",
    "\n",
    "        # Predictions 0/1\n",
    "        predictions = (1 + np.sign(p)) / 2\n",
    "        proba = logistic.cdf(p)\n",
    "        # Asses the predictions\n",
    "        y_true = np.array(Ytrain[\"Bound\"][int(len(XTrain) * split) :])\n",
    "       \n",
    "        # Compute the accuracy\n",
    "        accuracy = 100 * (1 - np.mean(abs(y_true - predictions)))\n",
    "        loss = (- y_true*np.log(proba) - (1-y_true)*np.log(1-proba)).mean()\n",
    "        loss_vs_lambda[i].append(loss)\n",
    "        accuracy_vs_lambda[i].append(accuracy)\n"
   ]
  },
  {
   "cell_type": "code",
   "execution_count": 34,
   "metadata": {},
   "outputs": [
    {
     "data": {
      "image/png": "[encoded data removed]",
      "text/plain": [
       "<Figure size 720x576 with 2 Axes>"
      ]
     },
     "metadata": {
      "needs_background": "light"
     },
     "output_type": "display_data"
    },
    {
     "name": "stdout",
     "output_type": "stream",
     "text": [
      "63.50% accuracy on dataset 0 for lambda = 4.641588833612773e-06\n",
      "59.00% accuracy on dataset 1 for lambda = 0.046415888336127725\n",
      "71.17% accuracy on dataset 2 for lambda = 0.0001\n"
     ]
    }
   ],
   "source": [
    "fig, axs = plt.subplots(2, 1, figsize = (10,8))\n",
    "loss_vs_lambda = np.array(loss_vs_lambda)\n",
    "accuracy_vs_lambda = np.array(accuracy_vs_lambda)\n",
    "\n",
    "axs[0].set_xscale(\"log\")\n",
    "axs[0].set_yscale(\"log\")\n",
    "\n",
    "axs[1].set_xscale(\"log\")\n",
    "\n",
    "for i in range(3):\n",
    "    axs[0].plot(lambdaa_list, loss_vs_lambda[i] - 1e-5*accuracy_vs_lambda[i], \"-o\", label=f\"set {i}\")\n",
    "    axs[1].plot(lambdaa_list, accuracy_vs_lambda[i], \"-o\", label=f\"set {i}\")\n",
    "axs[0].set_title('BCE loss')\n",
    "axs[1].set_title('accuracy')\n",
    "axs[0].legend()\n",
    "axs[1].legend()\n",
    "\n",
    "plt.show()\n",
    "\n",
    "best_lambda_idx = np.nanargmin(loss_vs_lambda - 1e-5*accuracy_vs_lambda[i], axis=1)\n",
    "for i, idx in enumerate(best_lambda_idx):\n",
    "    print(\n",
    "        \"{:.2f}% accuracy on dataset {} for lambda = {}\".format(\n",
    "            accuracy_vs_lambda[i][idx], i, lambdaa_list[idx]\n",
    "        )\n",
    "    )\n",
    "\n",
    "best_lambda0, best_lambda1, best_lambda2 = (\n",
    "    lambdaa_list[best_lambda_idx[0]],\n",
    "    lambdaa_list[best_lambda_idx[1]],\n",
    "    lambdaa_list[best_lambda_idx[2]],\n",
    ")\n"
   ]
  },
  {
   "cell_type": "code",
   "execution_count": 27,
   "metadata": {},
   "outputs": [
    {
     "data": {
      "text/plain": [
       "array([[1.71599699, 0.66444602, 0.67292604, 0.67292814],\n",
       "       [0.69989818, 0.67590776, 0.67517822, 0.67517821],\n",
       "       [0.7982178 , 0.64757352, 0.65239911, 0.65240029]])"
      ]
     },
     "execution_count": 27,
     "metadata": {},
     "output_type": "execute_result"
    }
   ],
   "source": [
    "loss_vs_lambda"
   ]
  },
  {
   "cell_type": "markdown",
   "metadata": {},
   "source": [
    "## Generate csv file to upload on Kaggle for spectrum kernel"
   ]
  },
  {
   "cell_type": "code",
   "execution_count": 7,
   "metadata": {},
   "outputs": [
    {
     "ename": "NameError",
     "evalue": "name 'XTrain0KF' is not defined",
     "output_type": "error",
     "traceback": [
      "\u001b[0;31m---------------------------------------------------------------------------\u001b[0m",
      "\u001b[0;31mNameError\u001b[0m                                 Traceback (most recent call last)",
      "\u001b[0;32m<ipython-input-7-72ad7957d1d8>\u001b[0m in \u001b[0;36m<module>\u001b[0;34m\u001b[0m\n\u001b[1;32m      1\u001b[0m \u001b[0;31m#Dataset 0\u001b[0m\u001b[0;34m\u001b[0m\u001b[0;34m\u001b[0m\u001b[0;34m\u001b[0m\u001b[0m\n\u001b[0;32m----> 2\u001b[0;31m \u001b[0mK0_SK\u001b[0m \u001b[0;34m=\u001b[0m \u001b[0mnp\u001b[0m\u001b[0;34m.\u001b[0m\u001b[0mdot\u001b[0m\u001b[0;34m(\u001b[0m\u001b[0mXTrain0KF\u001b[0m\u001b[0;34m,\u001b[0m\u001b[0mXTrain0KF\u001b[0m\u001b[0;34m.\u001b[0m\u001b[0mT\u001b[0m\u001b[0;34m)\u001b[0m\u001b[0;34m\u001b[0m\u001b[0;34m\u001b[0m\u001b[0m\n\u001b[0m\u001b[1;32m      3\u001b[0m \u001b[0mG0_SK\u001b[0m \u001b[0;34m=\u001b[0m \u001b[0mnp\u001b[0m\u001b[0;34m.\u001b[0m\u001b[0mdot\u001b[0m\u001b[0;34m(\u001b[0m\u001b[0mXTest0KF\u001b[0m\u001b[0;34m,\u001b[0m \u001b[0mXTrain0KF\u001b[0m\u001b[0;34m.\u001b[0m\u001b[0mT\u001b[0m\u001b[0;34m)\u001b[0m\u001b[0;34m\u001b[0m\u001b[0;34m\u001b[0m\u001b[0m\n\u001b[1;32m      4\u001b[0m \u001b[0mY0\u001b[0m \u001b[0;34m=\u001b[0m \u001b[0mnp\u001b[0m\u001b[0;34m.\u001b[0m\u001b[0msqueeze\u001b[0m\u001b[0;34m(\u001b[0m\u001b[0mnp\u001b[0m\u001b[0;34m.\u001b[0m\u001b[0marray\u001b[0m\u001b[0;34m(\u001b[0m\u001b[0mYTrain0\u001b[0m\u001b[0;34m)\u001b[0m\u001b[0;34m)\u001b[0m\u001b[0;34m\u001b[0m\u001b[0;34m\u001b[0m\u001b[0m\n\u001b[1;32m      5\u001b[0m \u001b[0mp0\u001b[0m \u001b[0;34m=\u001b[0m \u001b[0mfit_SVM_and_predict\u001b[0m\u001b[0;34m(\u001b[0m\u001b[0mK\u001b[0m\u001b[0;34m=\u001b[0m\u001b[0mK0_SK\u001b[0m\u001b[0;34m,\u001b[0m\u001b[0mgram\u001b[0m\u001b[0;34m=\u001b[0m\u001b[0mG0_SK\u001b[0m\u001b[0;34m,\u001b[0m\u001b[0mY\u001b[0m\u001b[0;34m=\u001b[0m\u001b[0mY0\u001b[0m\u001b[0;34m,\u001b[0m\u001b[0mC\u001b[0m\u001b[0;34m=\u001b[0m\u001b[0mbest_lambda0\u001b[0m\u001b[0;34m,\u001b[0m\u001b[0mget_proba\u001b[0m\u001b[0;34m=\u001b[0m\u001b[0;32mFalse\u001b[0m\u001b[0;34m)\u001b[0m\u001b[0;34m\u001b[0m\u001b[0;34m\u001b[0m\u001b[0m\n",
      "\u001b[0;31mNameError\u001b[0m: name 'XTrain0KF' is not defined"
     ]
    }
   ],
   "source": [
    "#Dataset 0\n",
    "K0_SK = np.dot(XTrain0KF,XTrain0KF.T)  \n",
    "G0_SK = np.dot(XTest0KF, XTrain0KF.T)\n",
    "Y0 = np.squeeze(np.array(YTrain0))\n",
    "p0 = fit_SVM_and_predict(K=K0_SK,gram=G0_SK,Y=Y0,C=best_lambda0,get_proba=False)\n",
    "\n",
    "#Dataset 1\n",
    "K1_SK = np.dot(XTrain1KF,XTrain1KF.T)  \n",
    "G1_SK = np.dot(XTest1KF, XTrain1KF.T)\n",
    "Y1 = np.squeeze(np.array(YTrain1))\n",
    "p1 = fit_SVM_and_predict(K=K1_SK,gram=G1_SK,Y=Y1,C=best_lambda1,get_proba=False)\n",
    "\n",
    "#Dataset 2\n",
    "K2_SK = np.dot(XTrain2KF,XTrain2KF.T)  \n",
    "G2_SK = np.dot(XTest2KF, XTrain2KF.T)\n",
    "Y2 = np.squeeze(np.array(YTrain2))\n",
    "p2 = fit_SVM_and_predict(K=K2_SK,gram=G2_SK,Y=Y2,C=best_lambda2,get_proba=False)\n",
    "\n",
    "\n",
    "#Predictions 0/1\n",
    "predictions0 = (1+np.sign(p0))/2\n",
    "predictions1 = (1+np.sign(p1))/2\n",
    "predictions2 = (1+np.sign(p2))/2\n",
    "\n",
    "# Creation of the Kaggle submission file\n",
    "df0 = pd.DataFrame({'Id': np.arange(1000), 'Bound': predictions0.squeeze().astype(int)})\n",
    "df1 = pd.DataFrame({'Id': np.arange(1000,2000), 'Bound': predictions1.squeeze().astype(int)})\n",
    "df2 = pd.DataFrame({'Id': np.arange(2000,3000), 'Bound': predictions2.squeeze().astype(int)})\n",
    "dfResult = pd.concat([df0,df1,df2])\n",
    "dfResult.to_csv('./data/submissionSVM.csv', index=False)"
   ]
  },
  {
   "cell_type": "markdown",
   "metadata": {},
   "source": [
    "# GLOBAL ALIGNMENT KERNEL with BIOPYTHON"
   ]
  },
  {
   "cell_type": "markdown",
   "metadata": {},
   "source": [
    "## Useful functions (the mapping $\\phi$ is not explicit)"
   ]
  },
  {
   "cell_type": "code",
   "execution_count": 36,
   "metadata": {},
   "outputs": [],
   "source": [
    "###################################################################################################\n",
    "#                                    GLOBAL ALIGNMENT KERNEL                                      #\n",
    "###################################################################################################\n",
    "def construct_KERNELmat(XATGC):\n",
    "    XATGC=XATGC[0]\n",
    "    Kmat=np.zeros([len(XATGC),len(XATGC)])\n",
    "    \n",
    "    for idx1,sequence1 in enumerate(XATGC):\n",
    "        x1 = sequence1.split(',')[1] #keep only the ATGC sequence\n",
    "        for idx2,sequence2 in enumerate(XATGC):\n",
    "            x2 = sequence2.split(',')[1]\n",
    "            if idx1>=idx2:#because the matrice is symmetric ==> reduce computation time\n",
    "                Kmat[idx1,idx2]=Kernel_func(x1,x2,kernel='bio')\n",
    "                Kmat[idx2,idx1]=Kmat[idx1,idx2]\n",
    "    \n",
    "    return Kmat\n",
    "\n",
    "def construct_Grammat(XTrainATGC,XTestATGC):\n",
    "    \n",
    "    XTestATGC=XTestATGC[0]\n",
    "    XTrainATGC=XTrainATGC[0]\n",
    "    Gmat=np.zeros([len(XTestATGC),len(XTrainATGC)])\n",
    "    \n",
    "    for idx1,sequence1 in enumerate(XTestATGC):\n",
    "        x1 = sequence1.split(',')[1]\n",
    "        for idx2,sequence2 in enumerate(XTrainATGC):\n",
    "            x2 = sequence2.split(',')[1]\n",
    "            Gmat[idx1,idx2]=Kernel_func(x1,x2,kernel='bio')\n",
    "    \n",
    "    return Gmat"
   ]
  },
  {
   "cell_type": "markdown",
   "metadata": {},
   "source": [
    "## Asses the model"
   ]
  },
  {
   "cell_type": "code",
   "execution_count": 37,
   "metadata": {},
   "outputs": [
    {
     "name": "stdout",
     "output_type": "stream",
     "text": [
      "K0 constructed\n",
      "K1 constructed\n",
      "K2 constructed\n",
      "G0 constructed\n",
      "G1 constructed\n",
      "G2 constructed\n"
     ]
    }
   ],
   "source": [
    "# construct validation matrices\n",
    "\n",
    "K0_AK = construct_KERNELmat(\n",
    "    XTrain0_ATGC[1 : int(len(XTrain0) * split) + 1]\n",
    ")  # takes 3min\n",
    "print(\"K0 constructed\")\n",
    "K1_AK = construct_KERNELmat(\n",
    "    XTrain1_ATGC[1 : int(len(XTrain1) * split) + 1]\n",
    ")  # takes 3min\n",
    "print(\"K1 constructed\")\n",
    "K2_AK = construct_KERNELmat(\n",
    "    XTrain2_ATGC[1 : int(len(XTrain2) * split) + 1]\n",
    ")  # takes 3min\n",
    "print(\"K2 constructed\")\n",
    "G0_AK = construct_Grammat(\n",
    "    XTrain0_ATGC[1 : int(len(XTrain0) * split) + 1],\n",
    "    XTrain0_ATGC[1 + int(len(XTrain0) * split) :],\n",
    ")\n",
    "print(\"G0 constructed\")\n",
    "G1_AK = construct_Grammat(\n",
    "    XTrain1_ATGC[1 : int(len(XTrain1) * split) + 1],\n",
    "    XTrain1_ATGC[1 + int(len(XTrain1) * split) :],\n",
    ")\n",
    "print(\"G1 constructed\")\n",
    "G2_AK = construct_Grammat(\n",
    "    XTrain2_ATGC[1 : int(len(XTrain2) * split) + 1],\n",
    "    XTrain2_ATGC[1 + int(len(XTrain2) * split) :],\n",
    ")\n",
    "print(\"G2 constructed\")\n",
    "\n",
    "\n",
    "Y0 = np.squeeze(np.array(YTrain0[: int(len(XTrain0) * split)]))\n",
    "Y1 = np.squeeze(np.array(YTrain1[: int(len(XTrain1) * split)]))\n",
    "Y2 = np.squeeze(np.array(YTrain2[: int(len(XTrain2) * split)]))\n"
   ]
  },
  {
   "cell_type": "code",
   "execution_count": 38,
   "metadata": {},
   "outputs": [],
   "source": [
    "K0=np.exp(K0_AK/120)\n",
    "K1=np.exp(K1_AK/120)\n",
    "K2=np.exp(K2_AK/120)\n",
    "G0=np.exp(G0_AK/120)\n",
    "G1=np.exp(G1_AK/120)\n",
    "G2=np.exp(G2_AK/120)"
   ]
  },
  {
   "cell_type": "code",
   "execution_count": 40,
   "metadata": {},
   "outputs": [],
   "source": [
    "from scipy.stats import logistic\n",
    "\n",
    "lambdaa_list = np.logspace(-3,3, 10)\n",
    "\n",
    "loss_vs_lambda =[[], [], []]\n",
    "accuracy_vs_lambda =[[], [], []]\n",
    "\n",
    "for i, (K, G, Y, XTrain,Ytrain) in enumerate(\n",
    "    zip(\n",
    "        [K0, K1, K2],\n",
    "        [G0, G1, G2],\n",
    "        [Y0, Y1, Y2],\n",
    "        [XTrain0, XTrain1, XTrain2],\n",
    "        [YTrain0, YTrain1, YTrain2],\n",
    "\n",
    "    )\n",
    "):\n",
    "\n",
    "    for lambdaa in lambdaa_list:\n",
    "        # Predictions -1/1\n",
    "        p = fit_SVM_and_predict(K=K, gram=G, Y=Y, C=lambdaa, get_proba=True)\n",
    "        p = p/(p.max()-p.min())\n",
    "\n",
    "        # Predictions 0/1\n",
    "        predictions = (1 + np.sign(p)) / 2\n",
    "        proba = logistic.cdf(p)\n",
    "        # Asses the predictions\n",
    "        y_true = np.array(Ytrain[\"Bound\"][int(len(XTrain) * split) :])\n",
    "       \n",
    "        # Compute the accuracy\n",
    "        accuracy = 100 * (1 - np.mean(abs(y_true - predictions)))\n",
    "        loss = (- y_true*np.log(proba) - (1-y_true)*np.log(1-proba)).mean()\n",
    "        loss_vs_lambda[i].append(loss)\n",
    "        accuracy_vs_lambda[i].append(accuracy)\n"
   ]
  },
  {
   "cell_type": "code",
   "execution_count": 42,
   "metadata": {},
   "outputs": [
    {
     "data": {
      "image/png": "[encoded data removed]",
      "text/plain": [
       "<Figure size 720x576 with 2 Axes>"
      ]
     },
     "metadata": {
      "needs_background": "light"
     },
     "output_type": "display_data"
    },
    {
     "name": "stdout",
     "output_type": "stream",
     "text": [
      "59.33% accuracy on dataset 0 for lambda = 0.46415888336127775\n",
      "55.83% accuracy on dataset 1 for lambda = 0.46415888336127775\n",
      "65.17% accuracy on dataset 2 for lambda = 0.1\n"
     ]
    }
   ],
   "source": [
    "fig, axs = plt.subplots(2, 1, figsize = (10,8))\n",
    "loss_vs_lambda = np.array(loss_vs_lambda)\n",
    "accuracy_vs_lambda = np.array(accuracy_vs_lambda)\n",
    "\n",
    "axs[0].set_xscale(\"log\")\n",
    "axs[0].set_yscale(\"log\")\n",
    "\n",
    "axs[1].set_xscale(\"log\")\n",
    "\n",
    "for i in range(3):\n",
    "    axs[0].plot(lambdaa_list, loss_vs_lambda[i] - 1e-5*accuracy_vs_lambda[i], \"-o\", label=f\"set {i}\")\n",
    "    axs[1].plot(lambdaa_list, accuracy_vs_lambda[i], \"-o\", label=f\"set {i}\")\n",
    "axs[0].set_title('BCE loss')\n",
    "axs[1].set_title('accuracy')\n",
    "axs[0].legend()\n",
    "axs[1].legend()\n",
    "\n",
    "plt.show()\n",
    "\n",
    "best_lambda_idx = np.nanargmin(loss_vs_lambda- 1e-5*accuracy_vs_lambda[i], axis=1)\n",
    "for i, idx in enumerate(best_lambda_idx):\n",
    "    print(\n",
    "        \"{:.2f}% accuracy on dataset {} for lambda = {}\".format(\n",
    "            accuracy_vs_lambda[i][idx], i, lambdaa_list[idx]\n",
    "        )\n",
    "    )\n",
    "\n",
    "best_lambda0, best_lambda1, best_lambda2 = (\n",
    "    lambdaa_list[best_lambda_idx[0]],\n",
    "    lambdaa_list[best_lambda_idx[1]],\n",
    "    lambdaa_list[best_lambda_idx[2]],\n",
    ")\n"
   ]
  },
  {
   "cell_type": "markdown",
   "metadata": {},
   "source": [
    "# Combing AK + SK"
   ]
  },
  {
   "cell_type": "code",
   "execution_count": 50,
   "metadata": {},
   "outputs": [],
   "source": [
    "# K0 = np.exp(K0_AK / 120)/ 0.46 + K0_SK/4.64/1e-6\n",
    "# G0 = np.exp(G0_AK / 120)/ 0.46 + G0_SK/4.64/1e-6\n",
    "\n",
    "# K1 = np.exp(K1_AK / 120)/ 0.46 + K1_SK /  0.046\n",
    "# G1 = np.exp(G1_AK / 120)/ 0.46 + G1_SK /  0.046\n",
    "\n",
    "# K2 = np.exp(K2_AK / 120)/0.1 + K2_SK / 0.0001\n",
    "# G2 = np.exp(G2_AK / 120)/0.1 + G2_SK / 0.0001\n",
    "\n",
    "K0 = np.exp(K0_AK / 120) + K0_SK\n",
    "G0 = np.exp(G0_AK / 120) + G0_SK\n",
    "\n",
    "K1 = np.exp(K1_AK / 120) + K1_SK \n",
    "G1 = np.exp(G1_AK / 120) + G1_SK \n",
    "\n",
    "K2 = np.exp(K2_AK / 120) + K2_SK \n",
    "G2 = np.exp(G2_AK / 120) + G2_SK \n",
    "\n"
   ]
  },
  {
   "cell_type": "code",
   "execution_count": 51,
   "metadata": {},
   "outputs": [],
   "source": [
    "from scipy.stats import logistic\n",
    "\n",
    "lambdaa_list = np.logspace(-3,3, 10)\n",
    "\n",
    "loss_vs_lambda =[[], [], []]\n",
    "accuracy_vs_lambda =[[], [], []]\n",
    "\n",
    "for i, (K, G, Y, XTrain,Ytrain) in enumerate(\n",
    "    zip(\n",
    "        [K0, K1, K2],\n",
    "        [G0, G1, G2],\n",
    "        [Y0, Y1, Y2],\n",
    "        [XTrain0, XTrain1, XTrain2],\n",
    "        [YTrain0, YTrain1, YTrain2],\n",
    "\n",
    "    )\n",
    "):\n",
    "\n",
    "    for lambdaa in lambdaa_list:\n",
    "        # Predictions -1/1\n",
    "        p = fit_SVM_and_predict(K=K, gram=G, Y=Y, C=lambdaa, get_proba=True)\n",
    "        p = p/(p.max()-p.min())\n",
    "\n",
    "        # Predictions 0/1\n",
    "        predictions = (1 + np.sign(p)) / 2\n",
    "        proba = logistic.cdf(p)\n",
    "        # Asses the predictions\n",
    "        y_true = np.array(Ytrain[\"Bound\"][int(len(XTrain) * split) :])\n",
    "       \n",
    "        # Compute the accuracy\n",
    "        accuracy = 100 * (1 - np.mean(abs(y_true - predictions)))\n",
    "        loss = (- y_true*np.log(proba) - (1-y_true)*np.log(1-proba)).mean()\n",
    "        loss_vs_lambda[i].append(loss)\n",
    "        accuracy_vs_lambda[i].append(accuracy)\n"
   ]
  },
  {
   "cell_type": "code",
   "execution_count": 52,
   "metadata": {},
   "outputs": [
    {
     "data": {
      "image/png": "[encoded data removed]",
      "text/plain": [
       "<Figure size 720x576 with 2 Axes>"
      ]
     },
     "metadata": {
      "needs_background": "light"
     },
     "output_type": "display_data"
    },
    {
     "name": "stdout",
     "output_type": "stream",
     "text": [
      "63.50% accuracy on dataset 0 for lambda = 0.46415888336127775\n",
      "59.00% accuracy on dataset 1 for lambda = 10.0\n",
      "71.50% accuracy on dataset 2 for lambda = 0.46415888336127775\n"
     ]
    }
   ],
   "source": [
    "fig, axs = plt.subplots(2, 1, figsize = (10,8))\n",
    "loss_vs_lambda = np.array(loss_vs_lambda)\n",
    "accuracy_vs_lambda = np.array(accuracy_vs_lambda)\n",
    "\n",
    "axs[0].set_xscale(\"log\")\n",
    "axs[0].set_yscale(\"log\")\n",
    "\n",
    "axs[1].set_xscale(\"log\")\n",
    "\n",
    "for i in range(3):\n",
    "    axs[0].plot(lambdaa_list, loss_vs_lambda[i] - 1e-5*accuracy_vs_lambda[i], \"-o\", label=f\"set {i}\")\n",
    "    axs[1].plot(lambdaa_list, accuracy_vs_lambda[i], \"-o\", label=f\"set {i}\")\n",
    "axs[0].set_title('BCE loss')\n",
    "axs[1].set_title('accuracy')\n",
    "axs[0].legend()\n",
    "axs[1].legend()\n",
    "\n",
    "plt.show()\n",
    "\n",
    "best_lambda_idx = np.nanargmin(loss_vs_lambda- 1e-5*accuracy_vs_lambda[i], axis=1)\n",
    "for i, idx in enumerate(best_lambda_idx):\n",
    "    print(\n",
    "        \"{:.2f}% accuracy on dataset {} for lambda = {}\".format(\n",
    "            accuracy_vs_lambda[i][idx], i, lambdaa_list[idx]\n",
    "        )\n",
    "    )\n",
    "\n",
    "best_lambda0, best_lambda1, best_lambda2 = (\n",
    "    lambdaa_list[best_lambda_idx[0]],\n",
    "    lambdaa_list[best_lambda_idx[1]],\n",
    "    lambdaa_list[best_lambda_idx[2]],\n",
    ")\n"
   ]
  },
  {
   "cell_type": "markdown",
   "metadata": {},
   "source": [
    "## Generate csv file to upload on Kaggle for GLOBAL ALIGNMENT + Spectrum kernel "
   ]
  },
  {
   "cell_type": "code",
   "execution_count": 51,
   "metadata": {},
   "outputs": [
    {
     "name": "stdout",
     "output_type": "stream",
     "text": [
      "K0 constructed\n",
      "K1 constructed\n",
      "K2 constructed\n",
      "G0 constructed\n",
      "G1 constructed\n",
      "G2 constructed\n"
     ]
    }
   ],
   "source": [
    "K0=np.exp(construct_KERNELmat(XTrain0_ATGC[1:])/120)+K0_SK #takes 3min\n",
    "print('K0 constructed')\n",
    "K1=np.exp(construct_KERNELmat(XTrain1_ATGC[1:])/120)+K1_SK #takes 3min\n",
    "print('K1 constructed')\n",
    "K2=np.exp(construct_KERNELmat(XTrain2_ATGC[1:])/120)+K2_SK #takes 3min\n",
    "print('K2 constructed')\n",
    "G0=np.exp(construct_Grammat(XTrain0_ATGC[1:],XTest0_ATGC[1:])/120)+G0_SK\n",
    "print('G0 constructed')\n",
    "G1=np.exp(construct_Grammat(XTrain1_ATGC[1:],XTest1_ATGC[1:])/120)+G1_SK\n",
    "print('G1 constructed')\n",
    "G2=np.exp(construct_Grammat(XTrain2_ATGC[1:],XTest2_ATGC[1:])/120)+G2_SK\n",
    "print('G2 constructed')\n",
    "\n",
    "\n",
    "Y0 = np.squeeze(np.array(YTrain0))\n",
    "p0 = fit_SVM_and_predict(K=K0,gram=G0,Y=Y0,C=best_lambda0,get_proba=False)\n",
    "\n",
    "Y1 = np.squeeze(np.array(YTrain1))\n",
    "p1 = fit_SVM_and_predict(K=K1,gram=G1,Y=Y1,C=best_lambda1,get_proba=False)\n",
    "\n",
    "\n",
    "Y2 = np.squeeze(np.array(YTrain2))\n",
    "p2 = fit_SVM_and_predict(K=K2,gram=G2,Y=Y2,C=best_lambda2,get_proba=False)\n",
    "\n",
    "\n",
    "#Predictions 0/1\n",
    "predictions0 = (1+np.sign(p0))/2\n",
    "predictions1 = (1+np.sign(p1))/2\n",
    "predictions2 = (1+np.sign(p2))/2\n",
    "\n",
    "# Creation of the Kaggle submission file\n",
    "df0 = pd.DataFrame({'Id': np.arange(1000), 'Bound': predictions0.squeeze().astype(int)})\n",
    "df1 = pd.DataFrame({'Id': np.arange(1000,2000), 'Bound': predictions1.squeeze().astype(int)})\n",
    "df2 = pd.DataFrame({'Id': np.arange(2000,3000), 'Bound': predictions2.squeeze().astype(int)})\n",
    "dfResult = pd.concat([df0,df1,df2])\n",
    "dfResult.to_csv('./data/submissionSVM.csv', index=False)"
   ]
  }
 ],
 "metadata": {
  "kernelspec": {
   "display_name": "Python 3",
   "language": "python",
   "name": "python3"
  },
  "language_info": {
   "codemirror_mode": {
    "name": "ipython",
    "version": 3
   },
   "file_extension": ".py",
   "mimetype": "text/x-python",
   "name": "python",
   "nbconvert_exporter": "python",
   "pygments_lexer": "ipython3",
   "version": "3.8.5"
  }
 },
 "nbformat": 4,
 "nbformat_minor": 4
}
